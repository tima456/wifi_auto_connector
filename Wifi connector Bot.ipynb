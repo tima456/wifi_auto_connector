{
 "cells": [
  {
   "cell_type": "code",
   "execution_count": 9,
   "metadata": {},
   "outputs": [],
   "source": [
    "import os\n",
    "import sys"
   ]
  },
  {
   "cell_type": "code",
   "execution_count": 10,
   "metadata": {},
   "outputs": [
    {
     "name": "stdout",
     "output_type": "stream",
     "text": [
      "\n",
      "Profiles on interface WiFi:\n",
      "\n",
      "Group policy profiles (read only)\n",
      "---------------------------------\n",
      "    <None>\n",
      "\n",
      "User profiles\n",
      "-------------\n",
      "    All User Profile     : Redmi Note 9 Pro Max\n",
      "    All User Profile     : realme narzo 30A\n",
      "    All User Profile     : BAAAAM0s4w0APwEtRedmi 5A\n",
      "    All User Profile     : realme 3i\n",
      "    All User Profile     : Sheldon\n",
      "    All User Profile     : vivo 1820\n",
      "    All User Profile     : realme 3 Pro\n",
      "    All User Profile     : TP-LINK\n",
      "    All User Profile     : Amaterasu\n",
      "    All User Profile     : vivo 1804\n",
      "    All User Profile     : Moto G (5) Plus 8886\n",
      "    All User Profile     : Moto G (5) Plus 9355\n",
      "    All User Profile     : vivo 1801\n",
      "    All User Profile     : OPPO F11 Pro\n",
      "    All User Profile     : Redmi Note 8 Pro\n",
      "    All User Profile     : MX\n",
      "    All User Profile     : Redmi\n",
      "    All User Profile     : JioFi3_21556B\n",
      "    All User Profile     : Android AP\n",
      "    All User Profile     : UERJTe4cMNIGU00tSjcw\n",
      "    All User Profile     : ram\n",
      "    All User Profile     : AndroidAP\n",
      "    All User Profile     : MxShare5951944\n",
      "    All User Profile     : AndroidShare_8818\n",
      "    All User Profile     : AndroidShare_1287\n",
      "    All User Profile     : AndroidShare_7543\n",
      "    All User Profile     : AndroidAP00FE\n",
      "    All User Profile     : AndroidAP 2\n",
      "    All User Profile     : FfH2-TGVub3ZvIFZJQkUgSzUgUGx1\n",
      "    All User Profile     : Lenovo VIBE K5 Plus\n",
      "    All User Profile     : AndroidShare_1041\n",
      "    All User Profile     : FYJ2-U01KNzAwRg\n",
      "    All User Profile     : BOMB!BOMB!\n",
      "    All User Profile     : AndroidAPDB8E\n",
      "    All User Profile     : AndroidAP4A1D\n",
      "    All User Profile     : AndroidAP5A39\n",
      "    All User Profile     : netwizard\n",
      "    All User Profile     : Fhhbn-SFA\n",
      "    All User Profile     : Fhhbn-SFA=\n",
      "    All User Profile     : poonam 2\n",
      "    All User Profile     : poonam\n",
      "    All User Profile     : Aditya \n",
      "    All User Profile     : AAAAABvQSroADwH/Redmi 5A\n",
      "    All User Profile     : dlink\n",
      "    All User Profile     : Mess\n",
      "    All User Profile     : BwAAANx8DOYAPwGRRedmi 3S 2\n",
      "    All User Profile     : baap ko boll net bharwane.. \n",
      "    All User Profile     : BwAAANx8DOYAPwGRRedmi 3S\n",
      "    All User Profile     : Honor Play_4B10\n",
      "    All User Profile     : Realme 1\n",
      "    All User Profile     : BNN7-UmVkbWk1QQ\n",
      "    All User Profile     : UERJTRvQSroGUmVkbWkg\n",
      "    All User Profile     : Redmi 5\n",
      "\n",
      "\n"
     ]
    }
   ],
   "source": [
    "##check saved profiles\n",
    "saved_profiles=os.popen('Netsh wlan show profiles').read()\n",
    "print(saved_profiles) "
   ]
  },
  {
   "cell_type": "code",
   "execution_count": 11,
   "metadata": {},
   "outputs": [
    {
     "name": "stdout",
     "output_type": "stream",
     "text": [
      " \n",
      "Interface name : WiFi \n",
      "There are 5 networks currently visible. \n",
      "\n",
      "SSID 1 : Paisa lagenge wifi ke\n",
      "    Network type            : Infrastructure\n",
      "    Authentication          : WPA2-Personal\n",
      "    Encryption              : CCMP \n",
      "\n",
      "SSID 2 : anand_kcs\n",
      "    Network type            : Infrastructure\n",
      "    Authentication          : WPA2-Personal\n",
      "    Encryption              : CCMP \n",
      "\n",
      "SSID 3 : SugarCrush\n",
      "    Network type            : Infrastructure\n",
      "    Authentication          : WPA2-Personal\n",
      "    Encryption              : CCMP \n",
      "\n",
      "SSID 4 : Redmi Note 9 Pro Max\n",
      "    Network type            : Infrastructure\n",
      "    Authentication          : WPA2-Personal\n",
      "    Encryption              : CCMP \n",
      "\n",
      "SSID 5 : realme narzo 30A\n",
      "    Network type            : Infrastructure\n",
      "    Authentication          : WPA2-Personal\n",
      "    Encryption              : CCMP \n",
      "\n",
      "\n"
     ]
    }
   ],
   "source": [
    "###checking available profiles\n",
    "available_profiles = os.popen('netsh wlan show networks').read()\n",
    "print(available_profiles)\n"
   ]
  },
  {
   "cell_type": "code",
   "execution_count": 12,
   "metadata": {},
   "outputs": [
    {
     "name": "stdout",
     "output_type": "stream",
     "text": [
      "Enter the preferred SSID for your connection : Redmi Note 9 Pro Max\n"
     ]
    }
   ],
   "source": [
    "preferred_ssid=input('Enter the preferred SSID for your connection : ')\n",
    "\n"
   ]
  },
  {
   "cell_type": "code",
   "execution_count": 15,
   "metadata": {},
   "outputs": [
    {
     "name": "stdout",
     "output_type": "stream",
     "text": [
      "Disconnection request was completed successfully for interface \"WiFi\".\n",
      "\n"
     ]
    }
   ],
   "source": [
    "response = os.popen(\"netsh wlan disconnect\").read()\n",
    "print(response)\n",
    "\n"
   ]
  },
  {
   "cell_type": "code",
   "execution_count": 16,
   "metadata": {},
   "outputs": [
    {
     "name": "stdout",
     "output_type": "stream",
     "text": [
      "Profile for Redmi Note 9 Pro Max is saved in system\n"
     ]
    }
   ],
   "source": [
    "if preferred_ssid not in saved_profiles:\n",
    "    print(\"Profile for \"+preferred_ssid+\" is not saved in system\")\n",
    "    print(\"Sorry but can't establish the connection\")\n",
    "    sys.exit()\n",
    "else:\n",
    "    print(\"Profile for \"+preferred_ssid+\" is saved in system\")\n"
   ]
  },
  {
   "cell_type": "code",
   "execution_count": 8,
   "metadata": {},
   "outputs": [
    {
     "name": "stdout",
     "output_type": "stream",
     "text": [
      "Found\n",
      "--------Connecting----------\n",
      "Connection request was completed successfully.\n",
      "\n"
     ]
    }
   ],
   "source": [
    "while True:   \n",
    "    avail = os.popen('netsh wlan show networks').read()# To get the available profiles\n",
    "    #sleep(3)\n",
    "    if preferred_ssid in avail: # Checks if the preferred connection is available or not\n",
    "        print('Found')\n",
    "        break\n",
    "print('--------Connecting----------')    \n",
    "resp = os.popen('netsh wlan connect name='+'\"'+preferred_ssid+'\"').read()\n",
    "print(resp)       "
   ]
  },
  {
   "cell_type": "code",
   "execution_count": null,
   "metadata": {},
   "outputs": [],
   "source": []
  }
 ],
 "metadata": {
  "kernelspec": {
   "display_name": "Python 3",
   "language": "python",
   "name": "python3"
  },
  "language_info": {
   "codemirror_mode": {
    "name": "ipython",
    "version": 3
   },
   "file_extension": ".py",
   "mimetype": "text/x-python",
   "name": "python",
   "nbconvert_exporter": "python",
   "pygments_lexer": "ipython3",
   "version": "3.7.3"
  }
 },
 "nbformat": 4,
 "nbformat_minor": 5
}
